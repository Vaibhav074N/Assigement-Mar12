{
  "nbformat": 4,
  "nbformat_minor": 0,
  "metadata": {
    "colab": {
      "provenance": [],
      "authorship_tag": "ABX9TyNnKJTFk1/wboL0bkaqatfI",
      "include_colab_link": true
    },
    "kernelspec": {
      "name": "python3",
      "display_name": "Python 3"
    },
    "language_info": {
      "name": "python"
    }
  },
  "cells": [
    {
      "cell_type": "markdown",
      "metadata": {
        "id": "view-in-github",
        "colab_type": "text"
      },
      "source": [
        "<a href=\"https://colab.research.google.com/github/Vaibhav074N/Assigement-Mar12/blob/main/Assigement_Mar12.ipynb\" target=\"_parent\"><img src=\"https://colab.research.google.com/assets/colab-badge.svg\" alt=\"Open In Colab\"/></a>"
      ]
    },
    {
      "cell_type": "markdown",
      "source": [
        "Q1. Calculate the 95% confidence interval for a sample of data with a mean of 50 and a standard deviation of 5 using Python. Interpret the results."
      ],
      "metadata": {
        "id": "_zsommg_xj7e"
      }
    },
    {
      "cell_type": "code",
      "execution_count": 1,
      "metadata": {
        "colab": {
          "base_uri": "https://localhost:8080/"
        },
        "id": "sGqTPsNVxTcj",
        "outputId": "7b6c1773-649b-48c1-d3f9-90b98edf7b17"
      },
      "outputs": [
        {
          "output_type": "stream",
          "name": "stdout",
          "text": [
            "95% confidence interval: (49.02001800772997, 50.97998199227003)\n"
          ]
        }
      ],
      "source": [
        "import scipy.stats as stats\n",
        "\n",
        "sample_mean = 50\n",
        "sample_std = 5\n",
        "sample_size = 100  # Assuming a sample size of 100\n",
        "\n",
        "z_critical = stats.norm.ppf(0.975)  \n",
        "\n",
        "margin_of_error = z_critical * (sample_std / (sample_size ** 0.5))\n",
        "\n",
        "confidence_interval = (sample_mean - margin_of_error, sample_mean + margin_of_error)\n",
        "\n",
        "print(f\"95% confidence interval: {confidence_interval}\")"
      ]
    },
    {
      "cell_type": "code",
      "source": [],
      "metadata": {
        "id": "AFswIH6IyXwf"
      },
      "execution_count": null,
      "outputs": []
    },
    {
      "cell_type": "markdown",
      "source": [
        "Q2. Conduct a chi-square goodness of fit test to determine if the distribution of colors of M&Ms in a bag\n",
        "matches the expected distribution of 20% blue, 20% orange, 20% green, 10% yellow, 10% red, and 20%\n",
        "brown. Use Python to perform the test with a significance level of 0.05."
      ],
      "metadata": {
        "id": "uQSqw1INyoUP"
      }
    },
    {
      "cell_type": "code",
      "source": [
        "import scipy.stats as stats\n",
        "import numpy as np\n",
        "\n",
        "obs = np.array([25, 15, 20, 10, 10, 20])\n",
        "\n",
        "exp = np.array([0.2, 0.2, 0.2, 0.1, 0.1, 0.2]) * sum(obs)\n",
        "\n",
        "chi2_stat, p_val = stats.chisquare(obs, f_exp=exp)\n",
        "\n",
        "print(\"Chi-square statistic:\", chi2_stat)\n",
        "print(\"P-value:\", p_val)\n",
        "\n",
        "if p_val < 0.05:\n",
        "    print(\"Reject null hypothesis - distribution of M&M colors does not match expected distribution\")\n",
        "else:\n",
        "    print(\"Failed to reject null hypothesis - distribution of M&M colors matches expected distribution\")\n"
      ],
      "metadata": {
        "colab": {
          "base_uri": "https://localhost:8080/"
        },
        "id": "wy_cQY4c0UbI",
        "outputId": "890b9668-0cbb-4d12-ec88-6fed902f175b"
      },
      "execution_count": 5,
      "outputs": [
        {
          "output_type": "stream",
          "name": "stdout",
          "text": [
            "Chi-square statistic: 2.5\n",
            "P-value: 0.7764950711233227\n",
            "Failed to reject null hypothesis - distribution of M&M colors matches expected distribution\n"
          ]
        }
      ]
    },
    {
      "cell_type": "code",
      "source": [],
      "metadata": {
        "id": "zS1W4h0m0UXm"
      },
      "execution_count": null,
      "outputs": []
    },
    {
      "cell_type": "markdown",
      "source": [
        "Q3."
      ],
      "metadata": {
        "id": "IOUFA7K-0lck"
      }
    },
    {
      "cell_type": "code",
      "source": [
        "import numpy as np\n",
        "from scipy.stats import chi2_contingency\n",
        "\n",
        "observed = np.array([[20, 10, 15], [15, 25, 20]])\n",
        "\n",
        "chi2_stat, p_val, dof, expected = chi2_contingency(observed)\n",
        "\n",
        "print(\"Chi-square statistic:\", chi2_stat)\n",
        "print(\"P-value:\", p_val)"
      ],
      "metadata": {
        "colab": {
          "base_uri": "https://localhost:8080/"
        },
        "id": "TYJQfh9p1cDs",
        "outputId": "d72e9856-1f8d-4ae1-fc64-91ef16b88425"
      },
      "execution_count": 7,
      "outputs": [
        {
          "output_type": "stream",
          "name": "stdout",
          "text": [
            "Chi-square statistic: 5.833333333333334\n",
            "P-value: 0.05411376622282158\n"
          ]
        }
      ]
    },
    {
      "cell_type": "code",
      "source": [],
      "metadata": {
        "id": "2Xx3uzSx1hQE"
      },
      "execution_count": null,
      "outputs": []
    },
    {
      "cell_type": "markdown",
      "source": [
        "Q4. A study of the prevalence of smoking in a population of 500 individuals found that 60 individuals\n",
        "smoked. Use Python to calculate the 95% confidence interval for the true proportion of individuals in the\n",
        "population who smoke."
      ],
      "metadata": {
        "id": "wJs0-WYj1zzc"
      }
    },
    {
      "cell_type": "code",
      "source": [
        "import statsmodels.api as sm\n",
        "\n",
        "n = 500 # sample size\n",
        "smoke_count = 60 # number of smokers\n",
        "prop_smoke = smoke_count / n # sample proportion\n",
        "\n",
        "ci = sm.stats.proportion_confint(smoke_count, n, alpha=0.05, method='normal')\n",
        "print(\"95% Confidence Interval for the true proportion of smokers:\", ci)"
      ],
      "metadata": {
        "colab": {
          "base_uri": "https://localhost:8080/"
        },
        "id": "BJpvPVFO1800",
        "outputId": "0070f524-a75b-4ae1-e1d8-7006ea6de6b9"
      },
      "execution_count": 10,
      "outputs": [
        {
          "output_type": "stream",
          "name": "stdout",
          "text": [
            "95% Confidence Interval for the true proportion of smokers: (0.09151638887130706, 0.14848361112869293)\n"
          ]
        }
      ]
    },
    {
      "cell_type": "code",
      "source": [
        "import math\n",
        "\n",
        "samplesize = 500\n",
        "\n",
        "smokesample  = 60\n",
        "\n",
        "sampleproportion = smokesample/samplesize\n",
        "\n",
        "z = 1.96\n",
        "\n",
        "marginoferror = z * math.sqrt(sampleproportion*(1-sampleproportion) / samplesize)\n",
        "\n",
        "CI = (sampleproportion - marginoferror, sampleproportion + marginoferror)\n",
        "\n",
        "print(\"95% Confidence Interval:\", CI)"
      ],
      "metadata": {
        "colab": {
          "base_uri": "https://localhost:8080/"
        },
        "id": "zIWYlShU2bl7",
        "outputId": "52164dbd-9b8c-4a39-ecfb-1f97b970de54"
      },
      "execution_count": 9,
      "outputs": [
        {
          "output_type": "stream",
          "name": "stdout",
          "text": [
            "95% Confidence Interval: (0.09151586546865079, 0.1484841345313492)\n"
          ]
        }
      ]
    },
    {
      "cell_type": "code",
      "source": [],
      "metadata": {
        "id": "rXYDnRsN3jPy"
      },
      "execution_count": null,
      "outputs": []
    },
    {
      "cell_type": "markdown",
      "source": [
        "Q5. Calculate the 90% confidence interval for a sample of data with a mean of 75 and a standard deviation\n",
        "of 12 using Python. Interpret the results."
      ],
      "metadata": {
        "id": "fvxYmF9m35XY"
      }
    },
    {
      "cell_type": "code",
      "source": [
        "import scipy.stats as stats\n",
        "\n",
        "sample_mean = 75\n",
        "sample_std = 12\n",
        "n = 10  # Sample size, assumed to be 10 as no information is given\n",
        "\n",
        "sem = sample_std / (n ** 0.5)\n",
        "\n",
        "t_value = stats.t.ppf(0.95, n-1)\n",
        "margin_of_error = t_value * sem\n",
        "\n",
        "lower_ci = sample_mean - margin_of_error\n",
        "upper_ci = sample_mean + margin_of_error\n",
        "\n",
        "print(\"The 90% confidence interval is:\", (lower_ci, upper_ci))"
      ],
      "metadata": {
        "colab": {
          "base_uri": "https://localhost:8080/"
        },
        "id": "92EsLkms39Fz",
        "outputId": "dd9cfaff-08cb-4ba1-8919-1d1fc9ccb1a3"
      },
      "execution_count": 12,
      "outputs": [
        {
          "output_type": "stream",
          "name": "stdout",
          "text": [
            "The 90% confidence interval is: (68.0438255094044, 81.9561744905956)\n"
          ]
        }
      ]
    },
    {
      "cell_type": "code",
      "source": [],
      "metadata": {
        "id": "8kpI1km84vJ8"
      },
      "execution_count": null,
      "outputs": []
    },
    {
      "cell_type": "markdown",
      "source": [
        "Q6. Use Python to plot the chi-square distribution with 10 degrees of freedom. Label the axes and shade the\n",
        "area corresponding to a chi-square statistic of 15."
      ],
      "metadata": {
        "id": "nQLuRRBh4-I8"
      }
    },
    {
      "cell_type": "code",
      "source": [
        "import numpy as np\n",
        "import matplotlib.pyplot as plt\n",
        "from scipy.stats import chi2\n",
        "\n",
        "df = 10\n",
        "chisq_dist = chi2(df)\n",
        "\n",
        "x = np.linspace(0, 25, 500)\n",
        "\n",
        "plt.plot(x, chisq_dist.pdf(x))\n",
        "\n",
        "x_shade = np.linspace(15, 25, 100)\n",
        "plt.fill_between(x_shade, chisq_dist.pdf(x_shade), color='orange')\n",
        "\n",
        "plt.xlabel('Chi-square statistic')\n",
        "plt.ylabel('Probability density')\n",
        "plt.title('Chi-square distribution with 10 degrees of freedom')\n",
        "\n",
        "plt.show()"
      ],
      "metadata": {
        "colab": {
          "base_uri": "https://localhost:8080/",
          "height": 472
        },
        "id": "omqOa6A75cjL",
        "outputId": "a67620b5-4433-40cb-d055-544c10bf4539"
      },
      "execution_count": 13,
      "outputs": [
        {
          "output_type": "display_data",
          "data": {
            "text/plain": [
              "<Figure size 640x480 with 1 Axes>"
            ],
            "image/png": "[encoded data removed]"
          },
          "metadata": {}
        }
      ]
    },
    {
      "cell_type": "code",
      "source": [],
      "metadata": {
        "id": "igVcAywj5dRt"
      },
      "execution_count": null,
      "outputs": []
    },
    {
      "cell_type": "markdown",
      "source": [
        "Q7. A random sample of 1000 people was asked if they preferred Coke or Pepsi. Of the sample, 520\n",
        "preferred Coke. Calculate a 99% confidence interval for the true proportion of people in the population who\n",
        "prefer Coke."
      ],
      "metadata": {
        "id": "aA1vv5aJ6WXF"
      }
    },
    {
      "cell_type": "code",
      "source": [
        "import scipy.stats as stats\n",
        "import math\n",
        "\n",
        "sample_size = 1000\n",
        "\n",
        "Coke_sample = 520\n",
        "\n",
        "sample_proportion = Coke_sample/sample_size\n",
        "\n",
        "standard_error = math.sqrt((sample_proportion*(1-sample_proportion)) / sample_size)\n",
        "\n",
        "z = stats.norm.ppf(0.995)\n",
        "\n",
        "margin_of_error = z * standard_error\n",
        "\n",
        "ci = (sample_proportion - margin_of_error, sample_proportion + margin_of_error)\n",
        "\n",
        "print(\"99% confidence interval:\", ci)"
      ],
      "metadata": {
        "colab": {
          "base_uri": "https://localhost:8080/"
        },
        "id": "fzF9El4D6aeO",
        "outputId": "a82addaa-2d7f-4ae9-91c4-371cd8e0347e"
      },
      "execution_count": 14,
      "outputs": [
        {
          "output_type": "stream",
          "name": "stdout",
          "text": [
            "99% confidence interval: (0.4793051576779699, 0.5606948423220302)\n"
          ]
        }
      ]
    },
    {
      "cell_type": "code",
      "source": [],
      "metadata": {
        "id": "NimZdJhJ7tDh"
      },
      "execution_count": null,
      "outputs": []
    },
    {
      "cell_type": "markdown",
      "source": [
        "Q8. A researcher hypothesizes that a coin is biased towards tails. They flip the coin 100 times and observe\n",
        "45 tails. Conduct a chi-square goodness of fit test to determine if the observed frequencies match the\n",
        "expected frequencies of a fair coin. Use a significance level of 0.05."
      ],
      "metadata": {
        "id": "F55k7nDd74Ix"
      }
    },
    {
      "cell_type": "code",
      "source": [
        "import numpy as np\n",
        "from scipy.stats import chisquare\n",
        "\n",
        "observed = np.array([55, 45])\n",
        "\n",
        "expected = np.array([50, 50])\n",
        "\n",
        "chi2_stat, p_value = chisquare(observed, expected)\n",
        "\n",
        "print('Chi-square statistic:', chi2_stat)\n",
        "print('p-value:', p_value)"
      ],
      "metadata": {
        "colab": {
          "base_uri": "https://localhost:8080/"
        },
        "id": "wwd-2Sqk7_4o",
        "outputId": "66478927-b2ec-4109-cb18-c246ec10823f"
      },
      "execution_count": 16,
      "outputs": [
        {
          "output_type": "stream",
          "name": "stdout",
          "text": [
            "Chi-square statistic: 1.0\n",
            "p-value: 0.31731050786291115\n"
          ]
        }
      ]
    },
    {
      "cell_type": "code",
      "source": [],
      "metadata": {
        "id": "OUdKfFVV8gLb"
      },
      "execution_count": null,
      "outputs": []
    },
    {
      "cell_type": "markdown",
      "source": [
        "Q9. A study was conducted to determine if there is an association between smoking status (smoker or\n",
        "non-smoker) and lung cancer diagnosis (yes or no). The results are shown in the contingency table below.\n",
        "Conduct a chi-square test for independence to determine if there is a significant association between\n",
        "smoking status and lung cancer diagnosis."
      ],
      "metadata": {
        "id": "1TcZ1Fjf8oea"
      }
    },
    {
      "cell_type": "code",
      "source": [
        "import numpy as np\n",
        "from scipy.stats import chi2_contingency\n",
        "\n",
        "observed = np.array([[60, 140], [30, 170]])  \n",
        "chi2, pval, dof, expected = chi2_contingency(observed)  \n",
        "\n",
        "print(\"Chi-square statistic:\", chi2)\n",
        "print(\"P-value:\", pval)"
      ],
      "metadata": {
        "colab": {
          "base_uri": "https://localhost:8080/"
        },
        "id": "sDTITJkr9kUB",
        "outputId": "87d6a458-5b64-4a77-c5c4-e03502327403"
      },
      "execution_count": 17,
      "outputs": [
        {
          "output_type": "stream",
          "name": "stdout",
          "text": [
            "Chi-square statistic: 12.057347670250895\n",
            "P-value: 0.0005158863863703744\n"
          ]
        }
      ]
    },
    {
      "cell_type": "code",
      "source": [],
      "metadata": {
        "id": "11HAlIDY9soT"
      },
      "execution_count": null,
      "outputs": []
    },
    {
      "cell_type": "markdown",
      "source": [
        "Q10."
      ],
      "metadata": {
        "id": "HZ3sW9IT-C_r"
      }
    },
    {
      "cell_type": "code",
      "source": [
        "import numpy as np\n",
        "from scipy.stats import chi2_contingency\n",
        "\n",
        "observed = np.array([[200, 150, 150], [225, 175, 100]])\n",
        "\n",
        "chi2, p, dof, expected = chi2_contingency(observed)\n",
        "\n",
        "print(f\"Chi-square statistic: {chi2}\")\n",
        "print(f\"P-value: {p}\")\n",
        "print(f\"Degrees of freedom: {dof}\")\n",
        "print(\"Expected frequencies:\")\n",
        "print(expected)"
      ],
      "metadata": {
        "colab": {
          "base_uri": "https://localhost:8080/"
        },
        "id": "1kN9Fl0t-CX3",
        "outputId": "5c0c4528-0b80-489d-a222-afa0f87915fd"
      },
      "execution_count": 26,
      "outputs": [
        {
          "output_type": "stream",
          "name": "stdout",
          "text": [
            "Chi-square statistic: 13.393665158371041\n",
            "P-value: 0.0012348168997745918\n",
            "Degrees of freedom: 2\n",
            "Expected frequencies:\n",
            "[[212.5 162.5 125. ]\n",
            " [212.5 162.5 125. ]]\n"
          ]
        }
      ]
    },
    {
      "cell_type": "markdown",
      "source": [
        "Q11. A random sample of 30 people was selected from a population with an unknown mean and standard\n",
        "deviation. The sample mean was found to be 72 and the sample standard deviation was found to be 10.\n",
        "Conduct a hypothesis test to determine if the population mean is significantly different from 70. Use a\n",
        "significance level of 0.05."
      ],
      "metadata": {
        "id": "2DqTV7ji9vbX"
      }
    },
    {
      "cell_type": "markdown",
      "source": [
        "Null hypothesis: The population mean is equal to 70 (μ = 70).\n",
        "\n",
        "Alternative hypothesis: The population mean is not equal to 70 (μ ≠ 70).\n",
        "\n",
        "We can set the significance level (alpha) to 0.05.\n",
        "\n",
        "Now, we need to calculate the t-statistic and p-value using the sample data.\n",
        "\n",
        "t = (sample mean - hypothesized mean) / (sample standard deviation / sqrt(sample size))\n",
        "\n",
        "t = (72 - 70) / (10 / sqrt(30))\n",
        "t = 1.095\n",
        "\n",
        "Using a t-table with 29 degrees of freedom (30 - 1), we find that the critical values for a two-tailed test with alpha = 0.05 are ±2.045.\n",
        "\n",
        "Since our calculated t-value of 1.095 falls within the range between -2.045 and 2.045, we fail to reject the null hypothesis.\n",
        "\n",
        "We can also calculate the p-value, which represents the probability of observing a sample mean as extreme as the one we have if the null hypothesis is true.\n",
        "\n",
        "We can use a t-distribution  or Python's scipy.stats module to find the p-value. "
      ],
      "metadata": {
        "id": "vwHWI9XT-oIH"
      }
    },
    {
      "cell_type": "code",
      "source": [
        "import scipy.stats as stats\n",
        "\n",
        "sample_mean = 72\n",
        "hypothesized_mean = 70\n",
        "sample_std = 10\n",
        "sample_size = 30\n",
        "significance_level = 0.05\n",
        "\n",
        "t_statistic = (sample_mean - hypothesized_mean) / (sample_std / (sample_size ** 0.5))\n",
        "critical_value = stats.t.ppf(significance_level / 2, sample_size - 1)"
      ],
      "metadata": {
        "id": "3mEZ1uA7-AyV"
      },
      "execution_count": 19,
      "outputs": []
    },
    {
      "cell_type": "code",
      "source": [
        "t_statistic , critical_value"
      ],
      "metadata": {
        "colab": {
          "base_uri": "https://localhost:8080/"
        },
        "id": "eslEsIY2_LRV",
        "outputId": "46761945-2caf-4135-a1de-3574c2389bf1"
      },
      "execution_count": 20,
      "outputs": [
        {
          "output_type": "execute_result",
          "data": {
            "text/plain": [
              "(1.0954451150103321, -2.0452296421327034)"
            ]
          },
          "metadata": {},
          "execution_count": 20
        }
      ]
    },
    {
      "cell_type": "code",
      "source": [
        "if abs(t_statistic) > critical_value:\n",
        "    print(\"Reject null hypothesis\")\n",
        "else:\n",
        "    print(\"Fail to reject null hypothesis\")"
      ],
      "metadata": {
        "colab": {
          "base_uri": "https://localhost:8080/"
        },
        "id": "7vplZRvF_EBr",
        "outputId": "7b53f33d-b6ba-4579-d218-d15687a464a3"
      },
      "execution_count": 21,
      "outputs": [
        {
          "output_type": "stream",
          "name": "stdout",
          "text": [
            "Reject null hypothesis\n"
          ]
        }
      ]
    },
    {
      "cell_type": "code",
      "source": [],
      "metadata": {
        "id": "VkPwp-PS_P5N"
      },
      "execution_count": null,
      "outputs": []
    }
  ]
}